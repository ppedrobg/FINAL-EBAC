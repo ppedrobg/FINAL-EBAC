{
  "nbformat": 4,
  "nbformat_minor": 0,
  "metadata": {
    "colab": {
      "provenance": []
    },
    "kernelspec": {
      "name": "python3",
      "display_name": "Python 3"
    },
    "language_info": {
      "name": "python"
    }
  },
  "cells": [
    {
      "cell_type": "code",
      "source": [
        "import seaborn as sns\n",
        "import matplotlib.pyplot as plt\n",
        "\n"
      ],
      "metadata": {
        "id": "IDPYy7puv6Oi"
      },
      "execution_count": 21,
      "outputs": []
    },
    {
      "cell_type": "code",
      "source": [
        "print(matricula.isnull().sum())\n",
        "print(docente.isnull().sum())\n",
        "print(turma.isnull().sum())\n",
        "print(escola.isnull().sum())\n",
        "\n",
        "# Excluir ou preencher dados ausentes\n",
        "matricula = matricula.dropna(subset=['id_turma', 'id_escola', 'id_aluno'])\n",
        "docente = docente.dropna(subset=['id_docente', 'id_turma', 'id_escola'])\n",
        "turma = turma.dropna(subset=['id_turma', 'id_escola'])\n",
        "escola = escola.dropna(subset=['id_escola'])"
      ],
      "metadata": {
        "colab": {
          "base_uri": "https://localhost:8080/"
        },
        "id": "IJAVbbT9wV3k",
        "outputId": "2f63d930-98e3-4000-f034-82e07f4b08b2"
      },
      "execution_count": 23,
      "outputs": [
        {
          "output_type": "stream",
          "name": "stdout",
          "text": [
            "0\n",
            "ano                               0\n",
            "sigla_uf                          0\n",
            "id_municipio                      0\n",
            "id_distrito                       0\n",
            "id_escola                         0\n",
            "                               ... \n",
            "mediacao_didatico_pedagogica      0\n",
            "unificada                         0\n",
            "tipo_atendimento_turma          500\n",
            "tipo_local_turma                500\n",
            "tipo_turma                        0\n",
            "Length: 96, dtype: int64\n",
            "0\n",
            "ano                                0\n",
            "sigla_uf                           0\n",
            "id_municipio                       0\n",
            "rede                               0\n",
            "id_escola                          0\n",
            "                                ... \n",
            "mant_escola_privada_sist_s       500\n",
            "mant_escola_privada_s_fins         0\n",
            "tipo_regulamentacao                0\n",
            "tipo_localizacao_diferenciada      0\n",
            "educacao_indigena                  0\n",
            "Length: 126, dtype: int64\n",
            "0\n",
            "ano                                 0\n",
            "sigla_uf                            0\n",
            "id_municipio                        0\n",
            "rede                                0\n",
            "id_escola                           0\n",
            "                                   ..\n",
            "informatica_acessivel               0\n",
            "port_escrita                        0\n",
            "autonomia_escolar                   0\n",
            "disciplina_atendimento_especiais    0\n",
            "disciplina_diver_socio_cultural     0\n",
            "Length: 76, dtype: int64\n",
            "0\n",
            "ano                                      0\n",
            "sigla_uf                                 0\n",
            "id_municipio                             0\n",
            "id_escola                                0\n",
            "rede                                     0\n",
            "                                      ... \n",
            "quantidade_turma_especial_comum          0\n",
            "quantidade_turma_especial_exclusiva      0\n",
            "quantidade_turma_diurno                500\n",
            "quantidade_turma_noturno               500\n",
            "quantidade_turma_ead                   500\n",
            "Length: 455, dtype: int64\n"
          ]
        }
      ]
    },
    {
      "cell_type": "code",
      "source": [
        "# Garantir tipos numéricos\n",
        "matricula['id_turma'] = pd.to_numeric(matricula['id_turma'], errors='coerce')\n",
        "docente['id_turma'] = pd.to_numeric(docente['id_turma'], errors='coerce')\n",
        "turma['id_turma'] = pd.to_numeric(turma['id_turma'], errors='coerce')\n"
      ],
      "metadata": {
        "id": "RaXm9RwmwXOF"
      },
      "execution_count": 24,
      "outputs": []
    },
    {
      "cell_type": "code",
      "source": [
        "# Número de alunos por turma\n",
        "alunos_por_turma = matricula.groupby('id_turma').size().reset_index(name='num_alunos')\n",
        "\n",
        "# Número de docentes por turma\n",
        "docentes_por_turma = docente.groupby('id_turma').size().reset_index(name='num_docentes')\n",
        "\n",
        "# Juntar com a base de turma\n",
        "turma = turma.merge(alunos_por_turma, on='id_turma', how='left')\n",
        "turma = turma.merge(docentes_por_turma, on='id_turma', how='left')\n",
        "\n",
        "# Preencher valores nulos com 0\n",
        "turma['num_alunos'] = turma['num_alunos'].fillna(0).astype(int)\n",
        "turma['num_docentes'] = turma['num_docentes'].fillna(0).astype(int)\n"
      ],
      "metadata": {
        "id": "1mVdvFtuwbdN"
      },
      "execution_count": 25,
      "outputs": []
    },
    {
      "cell_type": "code",
      "source": [
        "print(turma[['id_turma', 'num_alunos', 'num_docentes']].head())\n"
      ],
      "metadata": {
        "colab": {
          "base_uri": "https://localhost:8080/"
        },
        "id": "FcZ1OvHcwfuk",
        "outputId": "703276e1-babb-4c6f-c84e-b12ca5e3ee67"
      },
      "execution_count": 26,
      "outputs": [
        {
          "output_type": "stream",
          "name": "stdout",
          "text": [
            "   id_turma  num_alunos  num_docentes\n",
            "0       NaN           0             0\n",
            "1  666559.0           0             0\n",
            "2  666473.0           0             0\n",
            "3  667319.0           0             0\n",
            "4  671734.0           0             0\n"
          ]
        }
      ]
    },
    {
      "cell_type": "code",
      "source": [
        "import pandas as pd\n",
        "\n",
        "# Carregar os arquivos\n",
        "escola = pd.read_excel(\"escola.xlsx\")\n",
        "docente = pd.read_excel(\"docente.xlsx\")\n",
        "turma = pd.read_excel(\"turma.xlsx\")\n",
        "matricula = pd.read_excel(\"matricula.xlsx\")\n",
        "\n",
        "def limpar_tabela(df):\n",
        "    # Usa a segunda linha como cabeçalho real\n",
        "    df.columns = df.iloc[0]\n",
        "    df = df.drop(index=0).reset_index(drop=True)\n",
        "\n",
        "    # Remove colunas vazias\n",
        "    df = df.dropna(axis=1, how='all')\n",
        "\n",
        "    # Padroniza os nomes das colunas\n",
        "    df.columns = (\n",
        "        df.columns.str.strip()\n",
        "                  .str.lower()\n",
        "                  .str.replace(\" \", \"_\")\n",
        "                  .str.normalize('NFKD')\n",
        "                  .str.encode('ascii', errors='ignore')\n",
        "                  .str.decode('utf-8')\n",
        "    )\n",
        "\n",
        "    return df\n",
        "\n",
        "# Aplicar a limpeza\n",
        "escola_limpa = limpar_tabela(escola)\n",
        "docente_limpa = limpar_tabela(docente)\n",
        "turma_limpa = limpar_tabela(turma)\n",
        "matricula_limpa = limpar_tabela(matricula)"
      ],
      "metadata": {
        "id": "Jy1Ne5SaqmpY"
      },
      "execution_count": 16,
      "outputs": []
    },
    {
      "cell_type": "code",
      "source": [
        "# Merge matricula + turma\n",
        "df_merged = pd.merge(matricula, turma, on=['id_escola', 'id_turma', 'sigla_uf'], how='left')\n",
        "\n",
        "# Merge com escola\n",
        "df_merged = pd.merge(df_merged, escola, on=['id_escola', 'sigla_uf'], how='left')\n",
        "\n",
        "# Merge com docente\n",
        "df_merged = pd.merge(\n",
        "    df_merged, docente,\n",
        "    on=['id_escola', 'id_turma', 'sigla_uf'],\n",
        "    how='left',\n",
        "    suffixes=('_mat', '_doc')\n",
        ")\n",
        "\n",
        "\n",
        "# 7. MOSTRAR UMA AMOSTRA DOS DADOS CRUZADOS\n",
        "df_merged.head()\n",
        "\n",
        "# 8. EXEMPLO DE ANÁLISE CRUZADA\n",
        "# Quantidade de alunos por etapa de ensino e rede\n",
        "resumo = df_merged.groupby(['etapa_ensino', 'rede_x']).agg({\n",
        "    'id_aluno': 'count'\n",
        "}).reset_index().rename(columns={\n",
        "    'id_aluno': 'total_alunos',\n",
        "    'rede_x': 'rede'\n",
        "})\n",
        "\n",
        "# 9. VISUALIZAÇÃO\n",
        "plt.figure(figsize=(12, 6))\n",
        "sns.barplot(data=resumo, x='etapa_ensino', y='total_alunos', hue='rede')\n",
        "plt.title(\"Total de Alunos por Etapa de Ensino e Rede\")\n",
        "plt.xlabel(\"Etapa de Ensino\")\n",
        "plt.ylabel(\"Total de Alunos\")\n",
        "plt.xticks(rotation=45)\n",
        "plt.tight_layout()\n",
        "plt.show()"
      ],
      "metadata": {
        "colab": {
          "base_uri": "https://localhost:8080/",
          "height": 607
        },
        "id": "-rXT4i5vuR5f",
        "outputId": "62b129f2-ffa6-415f-f95a-2774f975ba57"
      },
      "execution_count": 22,
      "outputs": [
        {
          "output_type": "display_data",
          "data": {
            "text/plain": [
              "<Figure size 1200x600 with 1 Axes>"
            ],
            "image/png": "[encoded data removed]"
          },
          "metadata": {}
        }
      ]
    }
  ]
}